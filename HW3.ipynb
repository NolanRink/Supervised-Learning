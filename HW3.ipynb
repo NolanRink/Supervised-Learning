{
  "nbformat": 4,
  "nbformat_minor": 0,
  "metadata": {
    "colab": {
      "provenance": [],
      "authorship_tag": "ABX9TyM6v5s9JLTTAPeU2jAEoyD0",
      "include_colab_link": true
    },
    "kernelspec": {
      "name": "python3",
      "display_name": "Python 3"
    },
    "language_info": {
      "name": "python"
    }
  },
  "cells": [
    {
      "cell_type": "markdown",
      "metadata": {
        "id": "view-in-github",
        "colab_type": "text"
      },
      "source": [
        "<a href=\"https://colab.research.google.com/github/NolanRink/Supervised-Learning/blob/main/HW3.ipynb\" target=\"_parent\"><img src=\"https://colab.research.google.com/assets/colab-badge.svg\" alt=\"Open In Colab\"/></a>"
      ]
    },
    {
      "cell_type": "markdown",
      "metadata": {
        "id": "ed3596f6"
      },
      "source": [
        "## Homework Directions: Iterative Logistic Regression for Binary Classification on Iris Dataset\n",
        "\n",
        "**Objective:** Implement an iterative logistic regression algorithm (e.g., gradient ascent/descent) for binary classification and apply it to the Iris classification dataset.\n",
        "\n",
        "**Dataset:** Iris classification dataset (available at: https://archive.ics.uci.edu/Links to an external site.).\n",
        "\n",
        "**Instructions:**\n",
        "\n",
        "1.  Select only the data points belonging to two of the three classes (Iris Setosa and Iris Versicolour) from the Iris dataset.\n",
        "2.  Divide the selected data randomly into training and test sets with an 80%-20% ratio, respectively.\n",
        "3.  Implement an iterative logistic regression algorithm for binary classification.\n",
        "4.  Train your implemented algorithm using the training data.\n",
        "5.  Test the trained algorithm on the test data.\n",
        "6.  Calculate and report the classification accuracy on the test data.\n",
        "\n",
        "**Submission:**\n",
        "\n",
        "Submit your program code and execution results, including the classification accuracy on the test data, in a single document."
      ]
    },
    {
      "cell_type": "code",
      "source": [
        "%pip install ucimlrepo"
      ],
      "metadata": {
        "id": "f_k5fbeaVqtx"
      },
      "execution_count": null,
      "outputs": []
    },
    {
      "cell_type": "code",
      "source": [
        "import pandas as pd\n",
        "import numpy as np\n",
        "import matplotlib.pyplot as plt\n",
        "from sklearn.model_selection import train_test_split\n",
        "from sklearn.metrics import accuracy_score, confusion_matrix, classification_report, ConfusionMatrixDisplay\n",
        "\n",
        "\n",
        "np.random.seed(44)"
      ],
      "metadata": {
        "id": "9C-1SdG-Waxj"
      },
      "execution_count": 2,
      "outputs": []
    },
    {
      "cell_type": "code",
      "source": [
        "class LogisticRegression:\n",
        "    def __init__(self, learning_rate=0.01, num_iterations=1000, bias=0):\n",
        "        self.learning_rate = learning_rate\n",
        "        self.num_iterations = num_iterations\n",
        "        self.weights = None\n",
        "        self.bias = None\n",
        "\n",
        "        self.prev_costs = []\n",
        "\n",
        "    def sigmoid(self, z):\n",
        "        # Sigmoid funtion\n",
        "        return 1 / (1 + np.exp(-z))\n",
        "\n",
        "    def cost_function(self, y_true, y_pred):\n",
        "        # Cross entropy loss\n",
        "        m = len(y_true)\n",
        "        return (-1 / m) * np.sum(y_true * np.log(y_pred) + (1 - y_true) * np.log(1 - y_pred))\n",
        "\n",
        "    def fit(self, X, y):\n",
        "        # Initialize weights and bias\n",
        "        j, k = X.shape\n",
        "        self.weights = np.zeros(k)\n",
        "        self.bias = 0\n",
        "\n",
        "        for _ in range(self.num_iterations):\n",
        "          z = np.dot(X, self.weights) + self.bias\n",
        "          h = self.sigmoid(z)\n",
        "\n",
        "          dw = (1/j) * np.dot(X.T, (h - y))\n",
        "          db = (1/j) * np.sum(h - y)\n",
        "\n",
        "          self.weights -= self.learning_rate * dw\n",
        "          self.bias -= self.learning_rate * db\n",
        "\n",
        "          # Calculate and store cost values\n",
        "          cost = self.cost_function(y, h)\n",
        "          self.prev_costs.append(cost)\n",
        "\n",
        "\n",
        "    def predict(self, X):\n",
        "        z = np.dot(X, self.weights) + self.bias\n",
        "        y_pred = self.sigmoid(z)\n",
        "        # return 1 for iris setosa or 0 for iris versicolor\n",
        "        return (y_pred >= 0.5).astype(int)\n",
        "\n",
        "    def predict_pct(self, X):\n",
        "        z = np.dot(X, self.weights) + self.bias\n",
        "        y_pred = self.sigmoid(z)\n",
        "        # return 1 for iris setosa or 0 for iris versicolor\n",
        "        return y_pred"
      ],
      "metadata": {
        "id": "YfBIWfSW0G7c"
      },
      "execution_count": 3,
      "outputs": []
    },
    {
      "cell_type": "code",
      "source": [
        "from ucimlrepo import fetch_ucirepo\n",
        "\n",
        "# fetch dataset\n",
        "iris = fetch_ucirepo(id=53)\n",
        "\n",
        "# data (as pandas dataframes)\n",
        "X = iris.data.features\n",
        "y = iris.data.targets\n",
        "\n",
        "# metadata\n",
        "print(iris.metadata)\n",
        "\n",
        "# variable information\n",
        "print(iris.variables)\n"
      ],
      "metadata": {
        "id": "6ff7OlHRVi7U"
      },
      "execution_count": null,
      "outputs": []
    },
    {
      "cell_type": "code",
      "source": [
        "# First 100 are iris setosa and iris versicolor\n",
        "filtered_X = X[:100].copy()\n",
        "filtered_y = y[:100].copy()\n",
        "\n",
        "# Map class names to numerical values\n",
        "class_mapping = {'Iris-setosa': 1, 'Iris-versicolor': 0}\n",
        "filtered_y['class'] = filtered_y['class'].map(class_mapping)\n"
      ],
      "metadata": {
        "id": "FF-deSXlVoCz"
      },
      "execution_count": 5,
      "outputs": []
    },
    {
      "cell_type": "code",
      "source": [
        "x_train, x_test, y_train, y_test = train_test_split(filtered_X, filtered_y['class'], test_size=0.2, random_state=44)"
      ],
      "metadata": {
        "id": "Vo5WcKBGDKor"
      },
      "execution_count": 6,
      "outputs": []
    },
    {
      "cell_type": "code",
      "source": [
        "clf = LogisticRegression(learning_rate=.01)"
      ],
      "metadata": {
        "id": "SLYrWvZaNKMp"
      },
      "execution_count": 7,
      "outputs": []
    },
    {
      "cell_type": "code",
      "source": [
        "clf.fit(x_train, y_train)"
      ],
      "metadata": {
        "id": "dE2T4qWF88YJ"
      },
      "execution_count": 8,
      "outputs": []
    },
    {
      "cell_type": "code",
      "source": [
        "accuracy_score(y_test, clf.predict(x_test))"
      ],
      "metadata": {
        "colab": {
          "base_uri": "https://localhost:8080/"
        },
        "id": "4Zxmtp3CDkDR",
        "outputId": "1b2005af-44a5-49d6-b10e-e11cb0500800"
      },
      "execution_count": 9,
      "outputs": [
        {
          "output_type": "execute_result",
          "data": {
            "text/plain": [
              "1.0"
            ]
          },
          "metadata": {},
          "execution_count": 9
        }
      ]
    },
    {
      "cell_type": "code",
      "source": [
        "ConfusionMatrixDisplay.from_predictions(y_test, clf.predict(x_test))\n",
        "plt.show()"
      ],
      "metadata": {
        "colab": {
          "base_uri": "https://localhost:8080/",
          "height": 455
        },
        "id": "0IDq3Cw_li-V",
        "outputId": "c3ab2282-a2ee-400d-d949-970626b7eeea"
      },
      "execution_count": 10,
      "outputs": [
        {
          "output_type": "display_data",
          "data": {
            "text/plain": [
              "<Figure size 640x480 with 2 Axes>"
            ],
            "image/png": "[encoded data removed]"
          },
          "metadata": {}
        }
      ]
    },
    {
      "cell_type": "code",
      "source": [
        "plt.plot(clf.prev_costs)\n",
        "plt.ylabel(\"Cost\")\n",
        "plt.xlabel(\"Iteration\")\n",
        "plt.show()\n"
      ],
      "metadata": {
        "colab": {
          "base_uri": "https://localhost:8080/",
          "height": 449
        },
        "id": "H2wU70cus-sE",
        "outputId": "6b80babb-bca7-4608-addb-921647a4a8eb"
      },
      "execution_count": 11,
      "outputs": [
        {
          "output_type": "display_data",
          "data": {
            "text/plain": [
              "<Figure size 640x480 with 1 Axes>"
            ],
            "image/png": "[encoded data removed]"
          },
          "metadata": {}
        }
      ]
    },
    {
      "cell_type": "code",
      "source": [
        "print(classification_report(y_test, clf.predict(x_test), target_names=['Versicolor','Setosa']))\n"
      ],
      "metadata": {
        "colab": {
          "base_uri": "https://localhost:8080/"
        },
        "id": "3dBudbm21v3F",
        "outputId": "56ac105f-a4d8-4f87-e71d-b85db398ccd2"
      },
      "execution_count": 13,
      "outputs": [
        {
          "output_type": "stream",
          "name": "stdout",
          "text": [
            "              precision    recall  f1-score   support\n",
            "\n",
            "  Versicolor       1.00      1.00      1.00        10\n",
            "      Setosa       1.00      1.00      1.00        10\n",
            "\n",
            "    accuracy                           1.00        20\n",
            "   macro avg       1.00      1.00      1.00        20\n",
            "weighted avg       1.00      1.00      1.00        20\n",
            "\n"
          ]
        }
      ]
    }
  ]
}